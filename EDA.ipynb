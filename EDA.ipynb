{
 "cells": [
  {
   "cell_type": "code",
   "execution_count": 1,
   "metadata": {},
   "outputs": [],
   "source": [
    "import numpy as np\n",
    "import pandas as pd\n",
    "from src.load_BNB_json import *\n",
    "import matplotlib.pyplot as plt\n",
    "plt.style.use('fivethirtyeight')\n",
    "%matplotlib inline"
   ]
  },
  {
   "cell_type": "code",
   "execution_count": 2,
   "metadata": {},
   "outputs": [
    {
     "data": {
      "text/html": [
       "<div>\n",
       "<style scoped>\n",
       "    .dataframe tbody tr th:only-of-type {\n",
       "        vertical-align: middle;\n",
       "    }\n",
       "\n",
       "    .dataframe tbody tr th {\n",
       "        vertical-align: top;\n",
       "    }\n",
       "\n",
       "    .dataframe thead th {\n",
       "        text-align: right;\n",
       "    }\n",
       "</style>\n",
       "<table border=\"1\" class=\"dataframe\">\n",
       "  <thead>\n",
       "    <tr style=\"text-align: right;\">\n",
       "      <th></th>\n",
       "      <th>id</th>\n",
       "      <th>neighborhood</th>\n",
       "      <th>host_id</th>\n",
       "      <th>name</th>\n",
       "      <th>avgRating</th>\n",
       "      <th>reviewsCount</th>\n",
       "      <th>bathrooms</th>\n",
       "      <th>bedrooms</th>\n",
       "      <th>beds</th>\n",
       "      <th>roomAndPropertyType</th>\n",
       "      <th>roomTypeCategory</th>\n",
       "      <th>roomType</th>\n",
       "      <th>price</th>\n",
       "      <th>lat</th>\n",
       "      <th>lng</th>\n",
       "    </tr>\n",
       "  </thead>\n",
       "  <tbody>\n",
       "    <tr>\n",
       "      <td>0</td>\n",
       "      <td>21191971</td>\n",
       "      <td>North End</td>\n",
       "      <td>153050514</td>\n",
       "      <td>Huge, beautiful home with view.</td>\n",
       "      <td>4.82</td>\n",
       "      <td>78</td>\n",
       "      <td>4.0</td>\n",
       "      <td>4.0</td>\n",
       "      <td>7.0</td>\n",
       "      <td>Entire house</td>\n",
       "      <td>entire_home</td>\n",
       "      <td>Entire home/apt</td>\n",
       "      <td>600</td>\n",
       "      <td>47.27204</td>\n",
       "      <td>-122.46843</td>\n",
       "    </tr>\n",
       "    <tr>\n",
       "      <td>1</td>\n",
       "      <td>11260116</td>\n",
       "      <td>Wilson</td>\n",
       "      <td>58770767</td>\n",
       "      <td>North Tacoma Nights</td>\n",
       "      <td>4.94</td>\n",
       "      <td>145</td>\n",
       "      <td>1.0</td>\n",
       "      <td>2.0</td>\n",
       "      <td>2.0</td>\n",
       "      <td>Private room in house</td>\n",
       "      <td>private_room</td>\n",
       "      <td>Private room</td>\n",
       "      <td>55</td>\n",
       "      <td>47.26098</td>\n",
       "      <td>-122.51363</td>\n",
       "    </tr>\n",
       "    <tr>\n",
       "      <td>2</td>\n",
       "      <td>4340673</td>\n",
       "      <td>Stanley</td>\n",
       "      <td>22534829</td>\n",
       "      <td>Quiet upstairs suite private bath.</td>\n",
       "      <td>4.82</td>\n",
       "      <td>68</td>\n",
       "      <td>1.0</td>\n",
       "      <td>1.0</td>\n",
       "      <td>2.0</td>\n",
       "      <td>Private room in house</td>\n",
       "      <td>private_room</td>\n",
       "      <td>Private room</td>\n",
       "      <td>60</td>\n",
       "      <td>47.23954</td>\n",
       "      <td>-122.45935</td>\n",
       "    </tr>\n",
       "    <tr>\n",
       "      <td>3</td>\n",
       "      <td>38977910</td>\n",
       "      <td>West End</td>\n",
       "      <td>23336429</td>\n",
       "      <td>Gated 5 Bedroom Tacoma Retreat</td>\n",
       "      <td>5.00</td>\n",
       "      <td>15</td>\n",
       "      <td>3.0</td>\n",
       "      <td>5.0</td>\n",
       "      <td>5.0</td>\n",
       "      <td>Entire house</td>\n",
       "      <td>entire_home</td>\n",
       "      <td>Entire home/apt</td>\n",
       "      <td>176</td>\n",
       "      <td>47.28048</td>\n",
       "      <td>-122.50870</td>\n",
       "    </tr>\n",
       "    <tr>\n",
       "      <td>4</td>\n",
       "      <td>27283453</td>\n",
       "      <td>Tillow</td>\n",
       "      <td>188538325</td>\n",
       "      <td>Scenic Lake View Home</td>\n",
       "      <td>4.88</td>\n",
       "      <td>26</td>\n",
       "      <td>3.5</td>\n",
       "      <td>4.0</td>\n",
       "      <td>5.0</td>\n",
       "      <td>Entire house</td>\n",
       "      <td>entire_home</td>\n",
       "      <td>Entire home/apt</td>\n",
       "      <td>295</td>\n",
       "      <td>47.25296</td>\n",
       "      <td>-122.54358</td>\n",
       "    </tr>\n",
       "  </tbody>\n",
       "</table>\n",
       "</div>"
      ],
      "text/plain": [
       "         id neighborhood    host_id                                name  \\\n",
       "0  21191971    North End  153050514     Huge, beautiful home with view.   \n",
       "1  11260116       Wilson   58770767                 North Tacoma Nights   \n",
       "2   4340673      Stanley   22534829  Quiet upstairs suite private bath.   \n",
       "3  38977910     West End   23336429      Gated 5 Bedroom Tacoma Retreat   \n",
       "4  27283453       Tillow  188538325               Scenic Lake View Home   \n",
       "\n",
       "   avgRating  reviewsCount  bathrooms  bedrooms  beds    roomAndPropertyType  \\\n",
       "0       4.82            78        4.0       4.0   7.0           Entire house   \n",
       "1       4.94           145        1.0       2.0   2.0  Private room in house   \n",
       "2       4.82            68        1.0       1.0   2.0  Private room in house   \n",
       "3       5.00            15        3.0       5.0   5.0           Entire house   \n",
       "4       4.88            26        3.5       4.0   5.0           Entire house   \n",
       "\n",
       "  roomTypeCategory         roomType  price       lat        lng  \n",
       "0      entire_home  Entire home/apt    600  47.27204 -122.46843  \n",
       "1     private_room     Private room     55  47.26098 -122.51363  \n",
       "2     private_room     Private room     60  47.23954 -122.45935  \n",
       "3      entire_home  Entire home/apt    176  47.28048 -122.50870  \n",
       "4      entire_home  Entire home/apt    295  47.25296 -122.54358  "
      ]
     },
     "execution_count": 2,
     "metadata": {},
     "output_type": "execute_result"
    }
   ],
   "source": [
    "df = load_BNB_data()\n",
    "df.head()"
   ]
  },
  {
   "cell_type": "code",
   "execution_count": 3,
   "metadata": {},
   "outputs": [],
   "source": [
    "multi_listings_mask = df.duplicated(subset='host_id')\n",
    "hosts_with_multiple_listings = np.unique(df.host_id[multi_listings_mask])\n",
    "neighborhoods_with_multiple_listings = df.neighborhood[multi_listings_mask].values\n",
    "multiple_listings_df = df[df.host_id.isin(hosts_with_multiple_listings)]"
   ]
  },
  {
   "cell_type": "code",
   "execution_count": 4,
   "metadata": {},
   "outputs": [
    {
     "data": {
      "image/png": "[encoded data removed]",
      "text/plain": [
       "<Figure size 720x432 with 1 Axes>"
      ]
     },
     "metadata": {
      "needs_background": "light"
     },
     "output_type": "display_data"
    }
   ],
   "source": [
    "top_10_areas = multiple_listings_df.neighborhood.value_counts().sort_values(ascending=False)[:10]\n",
    "fig, ax = plt.subplots(figsize=(10,6))\n",
    "ax.bar(top_10_areas.index, top_10_areas)\n",
    "ax.set_ylabel('Number of Listings', labelpad=20, size=15)\n",
    "ax.set_title('Top 10 Tacoma Neighborhoods for Airbnb Hosts with Multiple Listings', pad=20, size=20)\n",
    "plt.xticks(rotation=45, ha='right')\n",
    "plt.tight_layout\n",
    "plt.savefig('images/Top_10_Neighborhoods.png')"
   ]
  },
  {
   "cell_type": "code",
   "execution_count": 5,
   "metadata": {},
   "outputs": [],
   "source": [
    "multiple_listings_df.to_csv('data/problem_locations.csv', index=False)"
   ]
  },
  {
   "cell_type": "code",
   "execution_count": null,
   "metadata": {},
   "outputs": [],
   "source": []
  }
 ],
 "metadata": {
  "kernelspec": {
   "display_name": "Python 3",
   "language": "python",
   "name": "python3"
  },
  "language_info": {
   "codemirror_mode": {
    "name": "ipython",
    "version": 3
   },
   "file_extension": ".py",
   "mimetype": "text/x-python",
   "name": "python",
   "nbconvert_exporter": "python",
   "pygments_lexer": "ipython3",
   "version": "3.7.4"
  }
 },
 "nbformat": 4,
 "nbformat_minor": 4
}
